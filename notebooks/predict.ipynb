{
 "cells": [
  {
   "cell_type": "code",
   "execution_count": null,
   "metadata": {},
   "outputs": [],
   "source": [
    "import torch\n",
    "import numpy as np\n",
    "import pandas as pd\n",
    "from turbojpeg import TurboJPEG\n",
    "import tqdm\n",
    "from os.path import join\n",
    "\n",
    "from argus import load_model\n",
    "\n",
    "from src.predictor import Predictor\n",
    "from src.transforms import get_transforms\n",
    "from src.metrics import MAPatK\n",
    "from src import config\n",
    "\n",
    "turbo_jpeg = TurboJPEG('/usr/lib/x86_64-linux-gnu/libturbojpeg.so.0')"
   ]
  },
  {
   "cell_type": "code",
   "execution_count": null,
   "metadata": {},
   "outputs": [],
   "source": [
    "model_path = '/workdir/data/experiments/resnet50_001/model-413-0.761313.pth'\n",
    "image_size = (208, 656)\n",
    "batch_size = 32\n",
    "k = 5\n",
    "new_prob = 0.71\n",
    "\n",
    "predictor = Predictor(model_path, **get_transforms(False, image_size))"
   ]
  },
  {
   "cell_type": "markdown",
   "metadata": {},
   "source": [
    "# Val"
   ]
  },
  {
   "cell_type": "code",
   "execution_count": null,
   "metadata": {},
   "outputs": [],
   "source": [
    "train_val_csv_path = config.TRAIN_VAL_CSV_PATH\n",
    "val_df = pd.read_csv(train_val_csv_path)\n",
    "val_df = val_df[val_df.val]"
   ]
  },
  {
   "cell_type": "code",
   "execution_count": null,
   "metadata": {},
   "outputs": [],
   "source": [
    "image_names = []\n",
    "pred_lst = []\n",
    "class_indexes = []\n",
    "\n",
    "samples = []\n",
    "\n",
    "for i, row in tqdm.tqdm(val_df.iterrows(), total=len(val_df)):\n",
    "\n",
    "    image = open(row.image_path, 'rb').read()\n",
    "    image = turbo_jpeg.decode(image)\n",
    "    bbox = (row.x0, row.y0, row.x1, row.y1) \n",
    "    \n",
    "    samples.append((image, bbox))\n",
    "    image_names.append(row.Image)\n",
    "    class_indexes.append(row.class_index)\n",
    "\n",
    "    if len(samples) >= batch_size:\n",
    "        pred = predictor(samples)\n",
    "        pred_lst.append(pred)\n",
    "        samples = []\n",
    "        \n",
    "pred = predictor(samples)\n",
    "pred_lst.append(pred)\n",
    "\n",
    "preds = torch.cat(pred_lst, dim=0)\n",
    "preds = torch.nn.functional.softmax(preds, dim=1)\n",
    "preds = preds.numpy()"
   ]
  },
  {
   "cell_type": "code",
   "execution_count": null,
   "metadata": {},
   "outputs": [],
   "source": [
    "new_index = preds.shape[1]\n",
    "class_indexes = [ind if ind!=-1 else new_index for ind in class_indexes]"
   ]
  },
  {
   "cell_type": "code",
   "execution_count": null,
   "metadata": {},
   "outputs": [],
   "source": [
    "new_preds = np.concatenate([preds, np.full((preds.shape[0], 1), new_prob)], axis=1)\n",
    "metric = MAPatK(k=5)\n",
    "metric.update({\n",
    "    'prediction': torch.from_numpy(new_preds),\n",
    "    'target': torch.from_numpy(np.array(class_indexes))\n",
    "})\n",
    "\n",
    "metric.compute()"
   ]
  },
  {
   "cell_type": "markdown",
   "metadata": {},
   "source": [
    "# Test"
   ]
  },
  {
   "cell_type": "code",
   "execution_count": null,
   "metadata": {},
   "outputs": [],
   "source": [
    "sample_subm = pd.read_csv(config.SAMPLE_SUBMISSION)\n",
    "bboxes_df = pd.read_csv(config.BOUNDING_BOXES_CSV)\n",
    "\n",
    "image_name2bbox = dict()\n",
    "for i, row in bboxes_df.iterrows():\n",
    "    image_name2bbox[row.Image] = row.x0, row.y0, row.x1, row.y1\n",
    "\n",
    "train_val_csv_path = config.TRAIN_VAL_CSV_PATH\n",
    "train_df = pd.read_csv(train_val_csv_path)\n",
    "train_df = train_df[~train_df.val]\n",
    "\n",
    "class_idx2id = dict()\n",
    "for i, row in tqdm.tqdm(train_df.iterrows(), total=len(train_df)):\n",
    "    class_idx2id[row.class_index] = row.Id"
   ]
  },
  {
   "cell_type": "code",
   "execution_count": null,
   "metadata": {},
   "outputs": [],
   "source": [
    "samples = []\n",
    "image_names = []\n",
    "pred_lst = []\n",
    "\n",
    "for i, row in tqdm.tqdm(sample_subm.iterrows(), total=len(sample_subm)):\n",
    "    image_path = join(config.TEST_DIR, row.Image)\n",
    "    image = open(image_path, 'rb').read()\n",
    "    image = turbo_jpeg.decode(image)\n",
    "    bbox = image_name2bbox[row.Image]\n",
    "\n",
    "    samples.append((image, bbox))\n",
    "    image_names.append(row.Image)\n",
    "    \n",
    "    if len(samples) >= batch_size:\n",
    "        pred = predictor(samples)\n",
    "        pred_lst.append(pred)\n",
    "        samples = []\n",
    "        \n",
    "pred = predictor(samples)\n",
    "pred_lst.append(pred)\n",
    "\n",
    "preds = torch.cat(pred_lst, dim=0)\n",
    "preds = torch.nn.functional.softmax(preds, dim=1)\n",
    "preds = preds.numpy()"
   ]
  },
  {
   "cell_type": "code",
   "execution_count": null,
   "metadata": {},
   "outputs": [],
   "source": [
    "new_index = preds.shape[1]\n",
    "class_idx2id[new_index] = 'new_whale'\n",
    "new_preds = np.concatenate([preds, np.full((preds.shape[0], 1), new_prob)], axis=1)\n",
    "preds_idx = new_preds.argsort(axis=1)\n",
    "preds_idx = np.fliplr(preds_idx)[:, :k]\n",
    "pred_class_ids = [' '.join([class_idx2id[idx] for idx in pred_idx]) for pred_idx in preds_idx] "
   ]
  },
  {
   "cell_type": "code",
   "execution_count": null,
   "metadata": {
    "scrolled": true
   },
   "outputs": [],
   "source": [
    "subm_df = pd.DataFrame({'Image': image_names, 'Id': pred_class_ids})\n",
    "subm_df.to_csv('/workdir/data/submissions/second_subm.csv', index=False)\n",
    "subm_df"
   ]
  },
  {
   "cell_type": "code",
   "execution_count": null,
   "metadata": {},
   "outputs": [],
   "source": []
  }
 ],
 "metadata": {
  "kernelspec": {
   "display_name": "Python 3",
   "language": "python",
   "name": "python3"
  },
  "language_info": {
   "codemirror_mode": {
    "name": "ipython",
    "version": 3
   },
   "file_extension": ".py",
   "mimetype": "text/x-python",
   "name": "python",
   "nbconvert_exporter": "python",
   "pygments_lexer": "ipython3",
   "version": "3.6.6"
  }
 },
 "nbformat": 4,
 "nbformat_minor": 2
}
